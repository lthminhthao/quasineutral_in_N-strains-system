{
 "cells": [
  {
   "cell_type": "code",
   "execution_count": 1,
   "metadata": {},
   "outputs": [],
   "source": [
    "import numpy as np\n",
    "import pylab as p\n",
    "import scipy.integrate  as  ode\n",
    "import matplotlib.pyplot  as  plt\n",
    "import math\n",
    "import timeit\n",
    "\n",
    "np.set_printoptions(linewidth = 130, precision = 13)\n",
    "%matplotlib inline\n",
    "\n",
    "from scipy.optimize import fsolve\n",
    "from scipy import integrate"
   ]
  },
  {
   "cell_type": "code",
   "execution_count": 3,
   "metadata": {},
   "outputs": [],
   "source": [
    "#create main parameters\n",
    "def parameters(n):\n",
    "    \n",
    "    #m, beta, b, k\n",
    "    m = np.random.rand(1)/np.random.rand(1)\n",
    "    gamm = 10*(np.random.rand(1) - np.random.rand(1))\n",
    "    if gamm > m:\n",
    "        temp1 = m\n",
    "        m = gamm\n",
    "        gamm = temp1 #make sure that r = m - gamma > 0\n",
    "    \n",
    "    \n",
    "    beta = 10*np.random.rand(1)\n",
    "    if m > beta:\n",
    "        temp2 = m\n",
    "        m = beta\n",
    "        beta = temp2 #make sure that m < beta\n",
    "    \n",
    "    b = (np.random.rand(n) - np.random.rand(n))*10\n",
    "\n",
    "    nu1d = (np.random.rand(n) - np.random.rand(n))*10\n",
    "    nu2d = (np.random.rand(n, n) - np.random.rand(n, n))*10\n",
    "\n",
    "    k = np.random.rand(1)*10\n",
    "    alp = (np.random.rand(n, n) - np.random.rand(n, n))*10\n",
    "    \n",
    "    #S*, T*, I*, J* and determinant of matrix\n",
    "    S_star = m/beta\n",
    "    T_star = 1 - S_star\n",
    "    I_star = m*T_star/(m + beta*k*T_star)\n",
    "    J_star = T_star - I_star\n",
    "\n",
    "    detP = -I_star*J_star + 2*(T_star)**2\n",
    "    \n",
    "#coefficients for replicator equations: theta 1,2,3,4 and big-theta\n",
    "    teth1 = 2*S_star*(T_star)**2/detP\n",
    "    teth2 = I_star*(I_star + T_star)/detP\n",
    "    teth3 = T_star*J_star/detP\n",
    "    teth4 = beta*T_star*J_star/detP\n",
    "\n",
    "    Teth = teth1 + teth2 + teth3 + teth4\n",
    "\n",
    "    #fitness matrix\n",
    "    lamd = np.zeros((n,n))\n",
    "    for i in range (0,n):\n",
    "        for j in range (0,n):\n",
    "            lamd[i][j] = teth1*(b[i] - b[j]) + teth2*(- nu1d[i] + nu1d[j]) + teth3*( - nu2d[i][j] - nu2d[j][i] + 2*nu2d[j][j]) + teth4*(I_star/J_star*(alp[j][i] - alp[i][j]) + alp[j][i] - alp[j][j])\n",
    "\n",
    "\n",
    "    coeffs = np.array([m, b, beta, gamm, nu1d, nu2d, k, alp, lamd, S_star, T_star, I_star, J_star, Teth])\n",
    "    return(coeffs)"
   ]
  },
  {
   "cell_type": "code",
   "execution_count": 4,
   "metadata": {},
   "outputs": [],
   "source": [
    "#create initial values\n",
    "def initial(n):\n",
    "    #random initial data for RE system\n",
    "    u0 = np.random.random(n)\n",
    "    u0 = u0/sum(u0)\n",
    "    \n",
    "    #random initial data for original quasi neutral SIS system\n",
    "    I_i0 = u0*I_star #initial value for I_i\n",
    "    \n",
    "    I_ij_sq = np.zeros((n,n)) #initial value for I_ij\n",
    "    for i in range (0, n):\n",
    "        for j in range (0, n):\n",
    "            I_ij_sq[i][j] = k*I_star*T_star/S_star*u0[i]*u0[j]\n",
    "            \n",
    "    I_ij0 = np.reshape(I_ij_sq, n*n)\n",
    "    \n",
    "    S0 = m/beta #initial values S\n",
    "    \n",
    "    #reshape the initial values into a vector\n",
    "    X0 = np.zeros(n*n + n + 1)\n",
    "    for i in range (0 , n*n ):\n",
    "        X0[i] = I_ij0[i]\n",
    "    for i in range (n*n, n*n + n):\n",
    "        X0[i] = I_i0[i - n*n]\n",
    "    X0[n*n + n] = S0\n",
    "    return u0, X0"
   ]
  },
  {
   "cell_type": "code",
   "execution_count": 25,
   "metadata": {},
   "outputs": [],
   "source": [
    "#subprogram computing RE system\n",
    "def RE(n):   \n",
    "    def du_dt(u, t = 0):\n",
    "        return Teth*u*(np.dot(lamd,u) - np.dot(np.dot(lamd,u),u))\n",
    "               \n",
    "    t = np.linspace(0, 1, 20)\n",
    "    \n",
    "    #solve and compute the time\n",
    "    start = timeit.default_timer()\n",
    "    u, infodict = integrate.odeint(du_dt, u0, t, full_output=True)\n",
    "    infodict['message']\n",
    "    stop = timeit.default_timer()\n",
    "    \n",
    "    #solution at time 100\n",
    "    sol_re = u.T[:,-1]\n",
    "    \n",
    "    return(sol_re, stop - start)"
   ]
  },
  {
   "cell_type": "code",
   "execution_count": 26,
   "metadata": {},
   "outputs": [],
   "source": [
    "#compute the essential parameters for original quasi-neutral SIS system\n",
    "#create the matrix of symmetric coefficients\n",
    "def sym(n):\n",
    "    A = np.random.random((n,n))\n",
    "    sym = (A.T - A)*10\n",
    "    return sym\n",
    "\n",
    "#lamda matrix of force infection for each strain\n",
    "def lambd_rate(X):\n",
    "    lambd = np.zeros(n)\n",
    "    temp = X[0: n*n]\n",
    "    Y = temp.reshape(n, n)\n",
    "    for i in range (0, n):\n",
    "            lambd[i] = (beta + eps*b[i])*(X[n*n + i - 1] + np.dot(1/2 + eps*symm[i,:], Y[i,:]) + np.dot(1/2 + eps*symm[:,i], Y[:,i]))\n",
    "    return lambd"
   ]
  },
  {
   "cell_type": "code",
   "execution_count": 27,
   "metadata": {},
   "outputs": [],
   "source": [
    "def solveSIS(n):\n",
    "    # The original quasi neutral SIS system\n",
    "    def SIS(X, t = 0):\n",
    "        deriv = np.zeros(n*n + n + 1)\n",
    "        \n",
    "        # 1st part: equations for I_ij\n",
    "        Y = X[0: n*n]\n",
    "        I_ij = Y.reshape(n,n)\n",
    "        I_i = X[n*n: n*n + n]\n",
    "        \n",
    "        Z = k*(1 + eps*alp)*np.matmul(I_i, lambd_rate(X))- (m + eps*nu2d)*I_ij\n",
    "        Z_new = Z.reshape(n*n)\n",
    "        for i in range (0, n*n):\n",
    "            deriv[i] = Z_new[i]\n",
    "        \n",
    "        #2nd part: equations for I_i\n",
    "        temp = X[-1]*lambd_rate(X) - (m + eps*nu1d)*I_i - I_i*(np.dot(k + eps*alp, lambd_rate(X)))\n",
    "        for i in range (n*n, n*n + n):\n",
    "            deriv[i] = temp[i - n*n]\n",
    "        \n",
    "        #3rd part: equation for S\n",
    "        deriv[-1] = (m - gamm)*(1 - X[-1]) + np.dot(gamm + eps*nu1d, I_i) + np.sum((gamm + eps*nu2d)* I_ij) - X[-1]*np.dot(np.ones(n), lambd_rate(X))\n",
    "        return deriv\n",
    "    \n",
    "    t = np.linspace(0, 10, 200)\n",
    "    \n",
    "    start = timeit.default_timer()\n",
    "    X, infodict = integrate.odeint(SIS, X0, t, full_output=True)\n",
    "    infodict['message']\n",
    "    stop = timeit.default_timer()\n",
    "    sol_or = X.T[:,-1]\n",
    "    \n",
    "    return(sol_or, stop - start)"
   ]
  },
  {
   "cell_type": "code",
   "execution_count": 32,
   "metadata": {
    "scrolled": false
   },
   "outputs": [],
   "source": [
    "nstrain = [2, 3, 4, 5, 6, 7, 8, 9, 10]\n",
    "eps = 0.1\n",
    "err = []\n",
    "\n",
    "t_RE = []\n",
    "t_SIS = []\n",
    "\n",
    "for n in nstrain:\n",
    "    # Invoke the parameters\n",
    "    m, b, beta, gamm, nu1d, nu2d, k, alp, lamd, S_star, T_star, I_star, J_star, Teth = parameters(n)\n",
    "    symm = sym(n)\n",
    "    \n",
    "    u0, X0 = initial(n)\n",
    "    #solve two systems\n",
    "    sol_re, t1 = RE(n)\n",
    "    sol_or, t2 = solveSIS(n)\n",
    "    \n",
    "    # Compute times of two progresses\n",
    "    t_RE.append(t1)\n",
    "    t_SIS.append(t2)\n",
    "\n",
    "    #compute the error between solution of the original system and the replicator system\n",
    "    #separte solution to parts: I_i, I_ij\n",
    "    Y = sol_or[0: n*n]\n",
    "    I_ij = Y.reshape(n,n)\n",
    "    I_i = sol_or[n*n: n*n + n]\n",
    "    \n",
    "    #reconstruct approximation of I_ij from u_i\n",
    "    u_ij = np.zeros((n,n))\n",
    "    for i in range (0, n):\n",
    "        for j in range (0, n):\n",
    "            u_ij[i][j] = sol_re[i]*sol_re[j]\n",
    "    #error\n",
    "    err_cell = np.linalg.norm(sol_or[-1] - S_star) + np.linalg.norm(I_i - I_star*sol_re) + np.linalg.norm(I_ij - (I_star*T_star/S_star)*u_ij)\n",
    "    err.append(err_cell)"
   ]
  },
  {
   "cell_type": "code",
   "execution_count": 34,
   "metadata": {},
   "outputs": [
    {
     "data": {
      "text/plain": [
       "Text(0.5, 1.0, 'Error $\\\\epsilon = 0.1$ with $T = 100$')"
      ]
     },
     "execution_count": 34,
     "metadata": {},
     "output_type": "execute_result"
    },
    {
     "data": {
      "image/png": "[encoded data removed]",
      "text/plain": [
       "<Figure size 432x288 with 1 Axes>"
      ]
     },
     "metadata": {
      "needs_background": "light"
     },
     "output_type": "display_data"
    }
   ],
   "source": [
    "#plotting the error due to the number of strains at time T = 100\n",
    "f1 = plt.figure()\n",
    "plt.plot(nstrain, err, 'r-', label='error')\n",
    "\n",
    "plt.legend(loc='best')\n",
    "plt.xlabel(\"Number of strain\", fontsize=16)\n",
    "plt.ylabel(\"Error\", fontsize = 16)\n",
    "plt.ylim(0, 1)\n",
    "plt.title(\"Error $\\epsilon = 0.1$ with $T = 100$\")"
   ]
  },
  {
   "cell_type": "code",
   "execution_count": 35,
   "metadata": {
    "scrolled": true
   },
   "outputs": [
    {
     "data": {
      "text/plain": [
       "Text(0, 0.5, 'Timing of progress')"
      ]
     },
     "execution_count": 35,
     "metadata": {},
     "output_type": "execute_result"
    },
    {
     "data": {
      "image/png": "[encoded data removed]",
      "text/plain": [
       "<Figure size 432x288 with 1 Axes>"
      ]
     },
     "metadata": {
      "needs_background": "light"
     },
     "output_type": "display_data"
    }
   ],
   "source": [
    "#plotting the time\n",
    "f2 = plt.figure(figsize=(6, 4))\n",
    "\n",
    "plt.plot(nstrain, t_RE, 'r', label = 'Replicator system')\n",
    "plt.plot(nstrain, t_SIS, 'b', label = 'Full system')\n",
    "\n",
    "plt.legend(loc='best')\n",
    "plt.xlabel(\"Number of strains\", fontsize=15)\n",
    "plt.ylabel(\"Timing of progress\", fontsize = 15)"
   ]
  }
 ],
 "metadata": {
  "kernelspec": {
   "display_name": "Python 3",
   "language": "python",
   "name": "python3"
  },
  "language_info": {
   "codemirror_mode": {
    "name": "ipython",
    "version": 3
   },
   "file_extension": ".py",
   "mimetype": "text/x-python",
   "name": "python",
   "nbconvert_exporter": "python",
   "pygments_lexer": "ipython3",
   "version": "3.7.1"
  }
 },
 "nbformat": 4,
 "nbformat_minor": 2
}
