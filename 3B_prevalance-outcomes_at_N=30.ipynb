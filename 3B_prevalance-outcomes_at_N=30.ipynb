{
 "cells": [
  {
   "cell_type": "code",
   "execution_count": 1,
   "metadata": {},
   "outputs": [],
   "source": [
    "import numpy as np\n",
    "import pylab as p\n",
    "import  scipy.integrate  as  ode\n",
    "import  matplotlib.pyplot  as  plt\n",
    "import math\n",
    "import pylab\n",
    "\n",
    "np . set_printoptions ( linewidth = 130 ,  precision = 13 )\n",
    "%matplotlib inline\n",
    "\n",
    "from scipy.optimize import fsolve\n",
    "from scipy import integrate"
   ]
  },
  {
   "cell_type": "code",
   "execution_count": 2,
   "metadata": {},
   "outputs": [],
   "source": [
    "#parameters\n",
    "n = 30\n",
    "\n",
    "m = np.random.rand(1)/np.random.rand(1)\n",
    "beta = np.random.rand(1)/np.random.rand(1)\n",
    "if m > beta:\n",
    "    temp = m\n",
    "    m = beta\n",
    "    beta = temp\n",
    "    \n",
    "b = (np.random.rand(30,1) - np.random.rand(30,1))/np.random.rand(1)\n",
    "\n",
    "gamm =(np.random.rand(1) - np.random.rand(1))/np.random.rand(1)\n",
    "nu1d = (np.random.rand(30,1) - np.random.rand(30,1))/np.random.rand(1)\n",
    "nu2d = (np.random.rand(30,30) - np.random.rand(30,30))/np.random.rand(1)\n",
    "\n",
    "k = np.random.rand(1)/np.random.rand(1)\n",
    "alp = (np.random.rand(30,30) - np.random.rand(30,30))/np.random.rand(1)"
   ]
  },
  {
   "cell_type": "code",
   "execution_count": 3,
   "metadata": {},
   "outputs": [],
   "source": [
    "#computation\n",
    "S_star = m/beta\n",
    "T_star = 1 - S_star\n",
    "I_star = m*T_star/(m + beta*k*T_star)\n",
    "J_star = T_star - I_star\n",
    "\n",
    "detP = I_star*J_star - 2*(T_star)**2\n",
    "\n",
    "teth1 = -2*m*(T_star)**2/detP\n",
    "teth2 = gamm*I_star*(I_star + T_star)/detP\n",
    "teth3 = gamm*T_star*J_star/detP\n",
    "teth4 = -m*(J_star)**2/detP\n",
    "\n",
    "Teth = teth1 - teth2 - teth3 + teth4\n",
    "\n",
    "lamd = np.zeros((n,n))\n",
    "for i in range (0,n-1):\n",
    "    for j in range (0,n-1):\n",
    "        lamd[i][j] = teth1*(b[i] - b[j]) + teth2*(nu1d[i] - nu1d[j]) + teth3*(nu2d[i][j] + nu2d[j][i] - 2*nu2d[j][j]) + teth4*(I_star/J_star*(alp[j][i] - alp[i][j]) + alp[j][i] - alp[j][j])"
   ]
  },
  {
   "cell_type": "code",
   "execution_count": 4,
   "metadata": {},
   "outputs": [
    {
     "data": {
      "text/plain": [
       "'Integration successful.'"
      ]
     },
     "execution_count": 4,
     "metadata": {},
     "output_type": "execute_result"
    }
   ],
   "source": [
    "#replicator system\n",
    "def du_dt(u, t = 0):\n",
    "    return Teth*u*(np.dot(lamd,u) - np.dot(np.dot(lamd,u),u))\n",
    "\n",
    "u0 = np.random.random(n) #random initial data\n",
    "u0 = u0/sum(u0)\n",
    "\n",
    "t = np.linspace(0, 100, 2000)\n",
    "\n",
    "u, infodict = integrate.odeint(du_dt, u0, t, full_output=True)\n",
    "infodict['message']"
   ]
  },
  {
   "cell_type": "code",
   "execution_count": 7,
   "metadata": {},
   "outputs": [
    {
     "name": "stderr",
     "output_type": "stream",
     "text": [
      "No handles with labels found to put in legend.\n"
     ]
    },
    {
     "data": {
      "text/plain": [
       "Text(0, 0.5, 'Frequencies $u_i$')"
      ]
     },
     "execution_count": 7,
     "metadata": {},
     "output_type": "execute_result"
    },
    {
     "data": {
      "image/png": "[encoded data removed]",
      "text/plain": [
       "<Figure size 720x576 with 1 Axes>"
      ]
     },
     "metadata": {
      "needs_background": "light"
     },
     "output_type": "display_data"
    }
   ],
   "source": [
    "s = []\n",
    "for i in range(0,n-1):\n",
    "    s.append(u.T[i])\n",
    "    \n",
    "f1 = plt.figure(figsize=(10, 8))\n",
    "for i in range(0,n-1):\n",
    "    plt.plot(t, s[i])\n",
    "\n",
    "plt.legend(loc='best')\n",
    "plt.xlabel(\"Time $\\\\tau$\",fontsize=16)\n",
    "plt.ylabel(\"Frequencies $u_i$\",fontsize = 20)"
   ]
  }
 ],
 "metadata": {
  "kernelspec": {
   "display_name": "Python 3",
   "language": "python",
   "name": "python3"
  },
  "language_info": {
   "codemirror_mode": {
    "name": "ipython",
    "version": 3
   },
   "file_extension": ".py",
   "mimetype": "text/x-python",
   "name": "python",
   "nbconvert_exporter": "python",
   "pygments_lexer": "ipython3",
   "version": "3.7.1"
  }
 },
 "nbformat": 4,
 "nbformat_minor": 2
}
